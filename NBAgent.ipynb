{
  "nbformat": 4,
  "nbformat_minor": 0,
  "metadata": {
    "colab": {
      "provenance": [],
      "authorship_tag": "ABX9TyO2QFm9fgcONOJzEsPAFSQK",
      "include_colab_link": true
    },
    "kernelspec": {
      "name": "python3",
      "display_name": "Python 3"
    },
    "language_info": {
      "name": "python"
    }
  },
  "cells": [
    {
      "cell_type": "markdown",
      "metadata": {
        "id": "view-in-github",
        "colab_type": "text"
      },
      "source": [
        "<a href=\"https://colab.research.google.com/github/RenanLM/nbagent-system/blob/main/NBAgent.ipynb\" target=\"_parent\"><img src=\"https://colab.research.google.com/assets/colab-badge.svg\" alt=\"Open In Colab\"/></a>"
      ]
    },
    {
      "cell_type": "markdown",
      "source": [
        "by Renan Moura\n",
        "\n",
        "# **Imersão IA Alura + Google Gemini 2025**\n",
        "\n",
        "# Chatbot para Previsão de desempenho de um jogador de basquete da NBA"
      ],
      "metadata": {
        "id": "8iGoLNSN9YAh"
      }
    },
    {
      "cell_type": "code",
      "execution_count": 87,
      "metadata": {
        "collapsed": true,
        "id": "q3rpoBO6e_C4"
      },
      "outputs": [],
      "source": [
        "%pip -q install google-genai google-adk"
      ]
    },
    {
      "cell_type": "code",
      "source": [
        "import os\n",
        "from google.colab import userdata\n",
        "os.environ[\"GOOGLE_API_KEY\"] = userdata.get('GOOGLE_API_KEY')\n",
        "\n",
        "from google import genai\n",
        "client = genai.Client()\n",
        "\n",
        "from google.adk.agents import Agent\n",
        "from google.adk.runners import Runner\n",
        "from google.adk.sessions import InMemorySessionService\n",
        "from google.adk.tools import google_search\n",
        "from google.genai import types\n",
        "from datetime import date\n",
        "from IPython.display import display, Markdown\n",
        "import textwrap\n",
        "import warnings\n",
        "warnings.filterwarnings(\"ignore\")"
      ],
      "metadata": {
        "id": "1HXCX9GegLpy"
      },
      "execution_count": 88,
      "outputs": []
    },
    {
      "cell_type": "code",
      "source": [
        "# Função para executar um agente com entrada do usuário\n",
        "def call_agent(agent: Agent, message_text: str) -> str:\n",
        "    session_service = InMemorySessionService()\n",
        "    session = session_service.create_session(app_name=agent.name, user_id=\"user1\", session_id=\"session1\")\n",
        "    runner = Runner(agent=agent, app_name=agent.name, session_service=session_service)\n",
        "    content = types.Content(role=\"user\", parts=[types.Part(text=message_text)])\n",
        "\n",
        "    final_response = \"\"\n",
        "    for event in runner.run(user_id=\"user1\", session_id=\"session1\", new_message=content):\n",
        "        if event.is_final_response():\n",
        "            for part in event.content.parts:\n",
        "                if part.text is not None:\n",
        "                    final_response += part.text + \"\\n\"\n",
        "    return final_response\n",
        "\n",
        "# Função para exibir o texto em formato de citação (Markdown)\n",
        "def to_markdown(text):\n",
        "    text = text.replace('•', '  *')\n",
        "    return Markdown(textwrap.indent(text, '> ', predicate=lambda _: True))\n"
      ],
      "metadata": {
        "id": "EwABcsriwHLh"
      },
      "execution_count": 89,
      "outputs": []
    },
    {
      "cell_type": "code",
      "source": [
        "###########################################################\n",
        "# --- Agente 1: Buscador de Estatísticas de Jogadores --- #\n",
        "###########################################################\n",
        "def agente_coletor_dados(jogador, data_de_hoje):\n",
        "    coletor = Agent(\n",
        "        name=\"agente_coletor_dados\",\n",
        "        model=\"gemini-2.0-flash\",\n",
        "        tools=[google_search],\n",
        "        instruction=\"\"\"\n",
        "        Você é um agente que coleta dados estatísticos recentes da NBA sobre o jogador fornecido.\n",
        "        Utilize a busca do Google para obter informações atualizadas como pontos por jogo, assistências,\n",
        "        rebotes, aproveitamento de arremessos, desempenho recente em jogos e outras métricas relevantes.\n",
        "\n",
        "        A resposta deve ser objetiva, listando as principais estatísticas encontradas, especialmente das últimas partidas.\n",
        "        Busque sempre a informação mais recente possível.\n",
        "\n",
        "        ⚠️ Se o jogador estiver lesionado, eliminado dos playoffs ou não estiver mais participando da temporada (como em casos de eliminação ou não classificação),\n",
        "        informe isso claramente e traga apenas os dados disponíveis, sem mencionar possíveis próximos jogos ou previsões futuras.\n",
        "        \"\"\"\n",
        "    )\n",
        "    entrada = f\"Jogador: {jogador}\\nData: {data_de_hoje}\"\n",
        "    dados = call_agent(coletor, entrada)\n",
        "    return dados\n"
      ],
      "metadata": {
        "id": "KgxzX8MywJjQ"
      },
      "execution_count": 90,
      "outputs": []
    },
    {
      "cell_type": "code",
      "source": [
        "#######################################################\n",
        "# --- Agente 2: Buscador de Estatísticas de Times --- #\n",
        "#######################################################\n",
        "\n",
        "def agente_analista_estatistico(jogador, dados_estatisticos):\n",
        "    analista = Agent(\n",
        "        name=\"agente_analista_estatistico\",\n",
        "        model=\"gemini-2.0-flash\",\n",
        "        instruction=\"\"\"\n",
        "        Você é um analista esportivo especializado em NBA. Com base nos dados estatísticos recentes de um jogador,\n",
        "        identifique tendências, como aumento ou queda de performance, padrões relevantes e fatores que impactam sua atuação.\n",
        "        Se o jogador estiver lesionado, eliminado dos playoffs ou não estiver mais participando da temporada,\n",
        "        destaque isso de forma clara em sua análise e baseie sua resposta apenas nos dados já ocorridos,\n",
        "        sem fazer projeções futuras.\n",
        "\n",
        "        Elabore uma análise objetiva, incluindo se a performance está em ascensão, estável ou em queda.\n",
        "        \"\"\"\n",
        "    )\n",
        "    entrada = f\"Jogador: {jogador}\\nDados: {dados_estatisticos}\"\n",
        "    analise = call_agent(analista, entrada)\n",
        "    return analise"
      ],
      "metadata": {
        "id": "zor6d9oXwWmv"
      },
      "execution_count": 91,
      "outputs": []
    },
    {
      "cell_type": "code",
      "source": [
        "#######################################################\n",
        "# --- Agente 3: Previsor de Desempenho de Jogador --- #\n",
        "#######################################################\n",
        "def agente_previsor(jogador, analise):\n",
        "    previsor = Agent(\n",
        "        name=\"agente_previsor\",\n",
        "        model=\"gemini-2.0-flash\",\n",
        "        instruction=\"\"\"\n",
        "        Você é um agente previsor de desempenho na NBA. Com base na análise estatística de um jogador,\n",
        "        gere uma previsão realista do seu desempenho em um próximo jogo da temporada (por exemplo: \"O jogador deve marcar entre 20 e 25 pontos\").\n",
        "        Seja preciso, mas evite exageros. Use termos como \"alta probabilidade\", \"tendência\", \"expectativa\".\n",
        "        Caso o jogador estiver lesionado, eliminado dos playoffs, ou não estiver mais participando da temporada,\n",
        "        você pode trazer estatísticas e análises, mas não deve fazer previsões futuras de desempenho ou jogos.\n",
        "        \"\"\"\n",
        "    )\n",
        "    entrada = f\"Jogador: {jogador}\\nAnálise: {analise}\"\n",
        "    previsao = call_agent(previsor, entrada)\n",
        "    return previsao"
      ],
      "metadata": {
        "id": "oCGPR5hpxaS4"
      },
      "execution_count": 92,
      "outputs": []
    },
    {
      "cell_type": "code",
      "source": [
        "###################################################\n",
        "# --- Agente 4: Previsor de Resultado de Jogo --- #\n",
        "###################################################\n",
        "def agente_validador(jogador, previsao):\n",
        "    validador = Agent(\n",
        "        name=\"agente_validador\",\n",
        "        model=\"gemini-2.0-flash\",\n",
        "        instruction=\"\"\"\n",
        "        Você é um agente crítico que valida previsões estatísticas da NBA.\n",
        "        Verifique se a previsão para o jogador é coerente com os dados recentes e explique em poucas frases por quê.\n",
        "        Caso o jogador estiver lesionado, eliminado dos playoffs, ou não estiver mais participando da temporada,\n",
        "        você pode validar mesmo assim.\n",
        "        \"\"\"\n",
        "    )\n",
        "    entrada = f\"Jogador: {jogador}\\nPrevisão: {previsao}\"\n",
        "    validacao = call_agent(validador, entrada)\n",
        "    return validacao"
      ],
      "metadata": {
        "id": "87n7DrKLx_3o"
      },
      "execution_count": 93,
      "outputs": []
    },
    {
      "cell_type": "code",
      "source": [
        "data_de_hoje = date.today().strftime(\"%d/%m/%Y\")\n",
        "jogador = input(\"🏀 Digite o nome do jogador da NBA para prever o desempenho: \")\n",
        "\n",
        "if not jogador:\n",
        "    print(\"Você esqueceu de digitar o nome do jogador!\")\n",
        "else:\n",
        "    print(f\"\\n🔎 Buscando dados de {jogador}...\")\n",
        "    dados = agente_coletor_dados(jogador, data_de_hoje)\n",
        "    display(to_markdown(dados))\n",
        "\n",
        "    print(\"\\n📊 Analisando estatísticas...\")\n",
        "    analise = agente_analista_estatistico(jogador, dados)\n",
        "    display(to_markdown(analise))\n",
        "\n",
        "    print(\"\\n🔮 Gerando previsão...\")\n",
        "    previsao = agente_previsor(jogador, analise)\n",
        "    display(to_markdown(previsao))\n",
        "\n",
        "    print(\"\\n✅ Validando previsão...\")\n",
        "    validacao = agente_validador(jogador, previsao)\n",
        "    display(to_markdown(validacao))"
      ],
      "metadata": {
        "colab": {
          "base_uri": "https://localhost:8080/",
          "height": 1000
        },
        "id": "NuV-UJf-2rHB",
        "outputId": "8b700579-1a7e-4a21-f5eb-cff51a8b0d59"
      },
      "execution_count": 95,
      "outputs": [
        {
          "output_type": "stream",
          "name": "stdout",
          "text": [
            "🏀 Digite o nome do jogador da NBA para prever o desempenho: Nikola Jokic\n",
            "\n",
            "🔎 Buscando dados de Nikola Jokic...\n"
          ]
        },
        {
          "output_type": "display_data",
          "data": {
            "text/plain": [
              "<IPython.core.display.Markdown object>"
            ],
            "text/markdown": "> Ok, coletarei dados estatísticos recentes sobre Nikola Jokic até 18 de maio de 2025.\n> \n> \n> Com certeza! Aqui estão as estatísticas recentes de Nikola Jokic até 18 de maio de 2025:\n> \n> **Estatísticas Gerais:**\n> \n> *   **Temporada Regular 2024-25:** Jokic teve médias de 29.6 pontos, 12.7 rebotes e 10.2 assistências por jogo.\n> *   **Aproveitamento:** 57.6% nos arremessos de quadra, 41.7% nas bolas de três e 80.0% nos lances livres.\n> \n> **Desempenho nos Playoffs de 2025:**\n> \n> *   Em 13 jogos nos playoffs, Jokic teve médias de 26.7 pontos, 13.0 rebotes e 8.1 assistências.\n> *   O aproveitamento nos playoffs foi de 48.6% nos arremessos de quadra e 37.7% nas bolas de três.\n> \n> **Jogos Recentes (Semifinais da Conferência Oeste contra o Oklahoma City Thunder):**\n> \n> *   **15 de maio de 2025 (Jogo 6):** 29 pontos, 14 rebotes e 8 assistências na vitória por 119-107.\n> *   **13 de maio de 2025 (Jogo 5):** 44 pontos e 15 rebotes na derrota por 112-105.\n> *   **11 de maio de 2025 (Jogo 4):** 27 pontos e 13 rebotes na derrota por 92-87.\n> *   **09 de maio de 2025 (Jogo 3):** 20 pontos e 16 rebotes na vitória por 113-104.\n> *   **07 de maio de 2025 (Jogo 2):** 17 pontos e 8 rebotes na derrota por 149-106.\n> *   **05 de maio de 2025 (Jogo 1):** 42 pontos e 22 rebotes na vitória por 121-119.\n> \n> **Informações Adicionais:**\n> \n> *   Nikola Jokic liderou a liga em triplos-duplos nesta temporada com 25.\n> *   Ele teve um jogo histórico em 7 de março de 2025, com 31 pontos, 21 rebotes e 22 assistências contra o Phoenix Suns.\n> *   No Jogo 7 contra o Oklahoma City Thunder, Nikola Jokic está saudável e pronto para jogar.\n> \n> Espero que estas informações sejam úteis!\n> \n"
          },
          "metadata": {}
        },
        {
          "output_type": "stream",
          "name": "stdout",
          "text": [
            "\n",
            "📊 Analisando estatísticas...\n"
          ]
        },
        {
          "output_type": "display_data",
          "data": {
            "text/plain": [
              "<IPython.core.display.Markdown object>"
            ],
            "text/markdown": "> ## Análise de Desempenho de Nikola Jokic (até 18 de Maio de 2025)\n> \n> Nikola Jokic apresenta um desempenho geral notável, tanto na temporada regular quanto nos playoffs de 2025. Sua capacidade de pontuar, rebater e distribuir a bola é excepcional, demonstrada pelas médias de quase triplo-duplo na temporada regular (29.6 pontos, 12.7 rebotes e 10.2 assistências) e pelo número expressivo de triplos-duplos (25) liderando a liga.\n> \n> **Tendências e Padrões:**\n> \n> *   **Temporada Regular:** Jokic manteve um alto nível de eficiência, com um aproveitamento de arremessos de quadra de 57.6% e 41.7% nas bolas de três, o que demonstra sua versatilidade e capacidade de pontuar de diferentes áreas da quadra.\n> *   **Playoffs:** Apesar de uma ligeira queda na pontuação em relação à temporada regular (26.7 pontos), ele elevou sua média de rebotes (13.0) e manteve um impacto significativo no jogo. O aproveitamento de arremessos de quadra diminuiu para 48.6% e o de bolas de três para 37.7%.\n> *   **Jogos Recentes (Semifinais contra OKC):** O desempenho nos jogos recentes contra o Oklahoma City Thunder demonstra uma variação significativa. Jokic alternou entre performances dominantes (44 pontos e 15 rebotes no Jogo 5, 42 pontos e 22 rebotes no Jogo 1) e jogos mais discretos (17 pontos no Jogo 2). A capacidade de ajustar seu jogo e contribuir de diferentes formas é evidente, com destaque para a eficiência nos rebotes, que se manteve constante.\n> \n> **Fatores que Impactam a Atuação:**\n> \n> *   **Oponente:** A variação no desempenho nos playoffs e, especificamente, nos jogos contra o Oklahoma City Thunder, sugere que a qualidade da defesa adversária tem um impacto significativo na sua pontuação e eficiência.\n> *   **Volume de Jogo:** A carga de minutos e a responsabilidade de ser o principal ponto focal ofensivo da equipe podem influenciar a consistência do seu desempenho, especialmente em jogos consecutivos ou em séries de playoffs.\n> \n> **Conclusão:**\n> \n> O desempenho de Nikola Jokic é de um jogador de elite, com habilidades excepcionais e impacto significativo em todas as áreas do jogo. Apesar de algumas variações, seu nível geral de performance é consistente e ele se mantém como uma força dominante na NBA.\n> \n> **Classificação:** Desempenho estável com potencial de ascensão dependendo da adaptação às estratégias defensivas adversárias.\n> \n"
          },
          "metadata": {}
        },
        {
          "output_type": "stream",
          "name": "stdout",
          "text": [
            "\n",
            "🔮 Gerando previsão...\n"
          ]
        },
        {
          "output_type": "display_data",
          "data": {
            "text/plain": [
              "<IPython.core.display.Markdown object>"
            ],
            "text/markdown": "> Com base na análise estatística, Nikola Jokic tem alta probabilidade de manter um desempenho de alto nível em um próximo jogo da temporada. A expectativa é que ele continue sendo o principal ponto focal ofensivo do Denver Nuggets, contribuindo com uma pontuação entre 25 e 30 pontos, além de coletar aproximadamente 12 a 14 rebotes e distribuir cerca de 9 a 11 assistências. A capacidade de Jokic de adaptar seu jogo ao oponente é um fator crucial, e a sua eficiência nos arremessos e rebotes deve permanecer constante, a menos que a defesa adversária consiga limitar seu espaço e oportunidades.\n"
          },
          "metadata": {}
        },
        {
          "output_type": "stream",
          "name": "stdout",
          "text": [
            "\n",
            "✅ Validando previsão...\n"
          ]
        },
        {
          "output_type": "display_data",
          "data": {
            "text/plain": [
              "<IPython.core.display.Markdown object>"
            ],
            "text/markdown": "> A previsão para Nikola Jokic parece coerente com seu desempenho histórico e recente. Ele consistentemente atinge estatísticas próximas ou superiores às projetadas, mantendo-se como o principal catalisador ofensivo do Denver Nuggets. Sua capacidade de pontuar, rebater e dar assistências o torna um dos jogadores mais versáteis e impactantes da NBA, justificando a previsão otimista.\n"
          },
          "metadata": {}
        }
      ]
    }
  ]
}